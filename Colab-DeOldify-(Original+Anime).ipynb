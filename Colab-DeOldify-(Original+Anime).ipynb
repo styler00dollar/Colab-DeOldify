{
  "nbformat": 4,
  "nbformat_minor": 0,
  "metadata": {
    "accelerator": "GPU",
    "colab": {
      "name": "Colab-DeOldify-(Original+Anime).ipynb",
      "provenance": [],
      "private_outputs": true,
      "collapsed_sections": [],
      "toc_visible": true
    },
    "kernelspec": {
      "display_name": "Python 3",
      "language": "python",
      "name": "python3"
    },
    "language_info": {
      "codemirror_mode": {
        "name": "ipython",
        "version": 3
      },
      "file_extension": ".py",
      "mimetype": "text/x-python",
      "name": "python",
      "nbconvert_exporter": "python",
      "pygments_lexer": "ipython3",
      "version": "3.7.6"
    }
  },
  "cells": [
    {
      "cell_type": "markdown",
      "metadata": {
        "id": "SZXxrWV5D4f_",
        "colab_type": "text"
      },
      "source": [
        "### **<font color='blue'> Artistic Colorizer </font>**"
      ]
    },
    {
      "cell_type": "markdown",
      "metadata": {
        "colab_type": "text",
        "id": "663IVxfrpIAb"
      },
      "source": [
        "#◢ DeOldify - Colorize your own photos!\n",
        "\n",
        "This notebook is a combination of 2 colab notebooks from [jantic/DeOldify](https://github.com/jantic/DeOldify) and 1 colab notebook from [Dakini/AnimeColorDeOldify](https://github.com/Dakini/AnimeColorDeOldify) and tries to combine everything related to images in one notebook. My fork can be found in [styler00dollar/Colab-DeOldify](https://github.com/styler00dollar/Colab-DeOldify).\n",
        "\n",
        "Special features:\n",
        "- Switch between 2 different DeOldify and 4 different AnimeColorDeOldify models.\n",
        "- Local file upload support. (The visualization might need to be improved)\n",
        "- I compressed code as much as possible. Less cells mean less clicks.\n",
        "\n",
        "####**Original DeOldify credits:**\n",
        "\n",
        "Special thanks to:\n",
        "\n",
        "Matt Robinson and María Benavente for pioneering the DeOldify image colab notebook.  \n",
        "\n",
        "Dana Kelley for doing things, breaking stuff & having an opinion on everything.\n",
        "\n",
        "**<font color='#FF000'> IMPORTANT </font>**\n",
        "\n",
        "In the \"Runtime\" menu for the notebook window, select \"Change runtime type.\" Ensure that the following are selected:\n",
        "* Runtime Type = Python 3\n",
        "* Hardware Accelerator = GPU "
      ]
    },
    {
      "cell_type": "markdown",
      "metadata": {
        "id": "PAulrMLbngNl",
        "colab_type": "text"
      },
      "source": [
        "# Using original DeOldify"
      ]
    },
    {
      "cell_type": "code",
      "metadata": {
        "id": "QN4qzXb2kaMo",
        "colab_type": "code",
        "colab": {},
        "cellView": "form"
      },
      "source": [
        "#@title ```Warning: ONLY run this if you switch between Deoldify and AnimeDeoldify. A Kernel restart will crash Colab. Currently I don't know a better solution to mitigate that import problem.```\n",
        "import os\n",
        "os._exit(00)"
      ],
      "execution_count": null,
      "outputs": []
    },
    {
      "cell_type": "code",
      "metadata": {
        "colab_type": "code",
        "id": "-T-svuHytJ-8",
        "cellView": "form",
        "colab": {}
      },
      "source": [
        "#@title ◢ Git clone and install DeOldify\n",
        "%cd /content/\n",
        "!git clone https://github.com/jantic/DeOldify.git DeOldify \n",
        "%cd DeOldify\n",
        "#NOTE:  This must be the first call in order to work properly!\n",
        "from deoldify import device\n",
        "from deoldify.device_id import DeviceId\n",
        "#choices:  CPU, GPU0...GPU7\n",
        "device.set(device=DeviceId.GPU0)\n",
        "\n",
        "import torch\n",
        "\n",
        "if not torch.cuda.is_available():\n",
        "    print('GPU not available.')\n",
        "!pip install -r colab_requirements.txt\n",
        "import fastai\n",
        "from deoldify.visualize import *\n",
        "!mkdir 'models'\n",
        "!wget https://www.dropbox.com/s/zkehq1uwahhbc2o/ColorizeArtistic_gen.pth?dl=0 -O ./models/ColorizeArtistic_gen.pth\n",
        "!wget https://media.githubusercontent.com/media/jantic/DeOldify/master/resource_images/watermark.png -O ./resource_images/watermark.png\n",
        "!wget https://www.dropbox.com/s/mwjep3vyqk5mkjc/ColorizeStable_gen.pth?dl=0 -O /content/DeOldify/models/ColorizeStable_gen.pth\n",
        "colorizer = get_image_colorizer(artistic=True)"
      ],
      "execution_count": null,
      "outputs": []
    },
    {
      "cell_type": "markdown",
      "metadata": {
        "colab_type": "text",
        "id": "sUQrbSYipiJn"
      },
      "source": [
        "#◢ Colorize"
      ]
    },
    {
      "cell_type": "code",
      "metadata": {
        "id": "0ChcDftRbEJH",
        "colab_type": "code",
        "colab": {}
      },
      "source": [
        "# You can switch between stable and artistic. The default is False. Set the value to True or False and run this cell.\n",
        "%cd /content/DeOldify\n",
        "colorizer = get_image_colorizer(artistic=True)"
      ],
      "execution_count": null,
      "outputs": []
    },
    {
      "cell_type": "code",
      "metadata": {
        "id": "AYuvUAAbD4gc",
        "colab_type": "code",
        "cellView": "form",
        "colab": {}
      },
      "source": [
        "%cd /content/DeOldify\n",
        "source_url = 'https://danbooru.donmai.us/data/sample/__original_drawn_by_even_even_yiwen__sample-99b220c21bcd3a52e4df009afbc16ab2.jpg' #@param {type:\"string\"}\n",
        "render_factor = 35  #@param {type: \"slider\", min: 7, max: 40}\n",
        "watermarked = False #@param {type:\"boolean\"}\n",
        "\n",
        "if source_url is not None and source_url !='':\n",
        "    image_path = colorizer.plot_transformed_image_from_url(url=source_url, render_factor=render_factor, compare=True, watermarked=watermarked)\n",
        "    show_image_in_notebook(image_path)\n",
        "else:\n",
        "    print('Provide an image url and try again.')"
      ],
      "execution_count": null,
      "outputs": []
    },
    {
      "cell_type": "code",
      "metadata": {
        "id": "AWoI1svwD4gf",
        "colab_type": "code",
        "cellView": "form",
        "colab": {}
      },
      "source": [
        "#@title ## See how well render_factor values perform on the image here (Currently only URL support)\n",
        "for i in range(10,40,2):\n",
        "    colorizer.plot_transformed_image('test_images/image.png', render_factor=i, display_render_factor=True, figsize=(8,8))"
      ],
      "execution_count": null,
      "outputs": []
    },
    {
      "cell_type": "code",
      "metadata": {
        "id": "NPyRoiHZHtZp",
        "colab_type": "code",
        "cellView": "form",
        "colab": {}
      },
      "source": [
        "#@title Upload file (Original file can be downloaded from ```/content/DeOldify/result_images```)\n",
        "from google.colab import files\n",
        "import matplotlib.pyplot as plt\n",
        "import torchvision\n",
        "import cv2\n",
        "%cd /content/\n",
        "!mkdir /content/files/\n",
        "%cd /content/files/\n",
        "uploaded_names = files.upload().keys()\n",
        "\n",
        "if(len(uploaded_names)==0): raise Exception(\"You need to upload at least one image.\")\n",
        "filepath = \"/content/files/\"+list(uploaded_names)[0]\n",
        "\n",
        "final_image = colorizer.get_transformed_image(filepath, render_factor=35)\n",
        "final_image.save(\"/content/DeOldify/result_images/image.png\")\n",
        "\n",
        "%cd /content/DeOldify/result_images\n",
        "final_image = cv2.imread(\"image.png\")\n",
        "final_image = cv2.cvtColor(final_image, cv2.COLOR_BGR2RGB)\n",
        "\n",
        "plt.axis('off')\n",
        "plt.figure(figsize=(20,20))\n",
        "plt.imshow(final_image)\n",
        "plt.show()\n",
        "\n",
        "%cd /content/\n",
        "!sudo rm -rf /content/files/"
      ],
      "execution_count": null,
      "outputs": []
    },
    {
      "cell_type": "markdown",
      "metadata": {
        "id": "fWIPXZeIRM9F",
        "colab_type": "text"
      },
      "source": [
        "# AnimeColorDeOldify\n",
        "\n",
        "The original repo and colab can be found [here](https://github.com/Dakini/AnimeColorDeOldify). Special thanks to Dakini and his awesome AnimeColorDeOldify repo."
      ]
    },
    {
      "cell_type": "code",
      "metadata": {
        "id": "ABF8BuGkdHXw",
        "colab_type": "code",
        "colab": {},
        "cellView": "form"
      },
      "source": [
        "#@title ```Warning: ONLY run this if you switch between Deoldify and AnimeDeoldify. A Kernel restart will crash Colab. Currently I don't know a better solution to mitigate that import problem.```\n",
        "import os\n",
        "os._exit(00)"
      ],
      "execution_count": null,
      "outputs": []
    },
    {
      "cell_type": "code",
      "metadata": {
        "id": "9v46XmWwRLTM",
        "colab_type": "code",
        "colab": {},
        "cellView": "form"
      },
      "source": [
        "#@title Git clone and install AnimeColorDeOldify\n",
        "%cd /content/\n",
        "import torch\n",
        "if not torch.cuda.is_available():\n",
        "    print('GPU not available.')\n",
        "!git clone https://github.com/Dakini/AnimeColorDeOldify.git AnimeColorDeOldify \n",
        "%cd  AnimeColorDeOldify\n",
        "!pip install -r colab_requirements.txt\n",
        "import fastai\n",
        "from deoldify.visualize import *\n",
        "torch.backends.cudnn.benchmark = True\n",
        "!mkdir 'models'\n",
        "from deoldify.visualize import *\n",
        "!pip install wget\n",
        "import wget"
      ],
      "execution_count": null,
      "outputs": []
    },
    {
      "cell_type": "code",
      "metadata": {
        "id": "xXZZXvLNSx3E",
        "colab_type": "code",
        "colab": {},
        "cellView": "form"
      },
      "source": [
        "#@title Choose one of 4 models\n",
        "\n",
        "%cd /content/AnimeColorDeOldify\n",
        "\n",
        "anime_model = 'Image' #@param [\"Image\", \"Grayscale\", \"Sketch\", \"Sketch2Gray\"]\n",
        "\n",
        "%cd /content/AnimeColorDeOldify/models\n",
        "if anime_model == 'Image':\n",
        "  # image\n",
        "  #!wget https://www.dropbox.com/s/0m1rwdk7je1r39j/MQT9QHUfXxKpQ9b2CPda89htDBzFtmHD9r2YZsHp.pth?dl=1 -O ./models/ColorizeArtistic_gen.pth\n",
        "  wget.download('https://www.dropbox.com/s/0m1rwdk7je1r39j/MQT9QHUfXxKpQ9b2CPda89htDBzFtmHD9r2YZsHp.pth?dl=1')\n",
        "  os.rename(r'/content/AnimeColorDeOldify/models/MQT9QHUfXxKpQ9b2CPda89htDBzFtmHD9r2YZsHp.pth',r'/content/AnimeColorDeOldify/models/ColorizeArtistic_gen.pth')\n",
        "if anime_model == 'Grayscale':\n",
        "  #grayscale\n",
        "  #!wget https://www.dropbox.com/s/ojrwwsre1gt6sfx/UDLVQJgsv5RwrTkVWAhS9LrdGDFzdbuN2SFxCFsZ.pth?dl=1 -O ./models/ColorizeArtistic_gen.pth\n",
        "  wget.download('https://www.dropbox.com/s/ojrwwsre1gt6sfx/UDLVQJgsv5RwrTkVWAhS9LrdGDFzdbuN2SFxCFsZ.pth?dl=1')\n",
        "  os.rename(r'/content/AnimeColorDeOldify/models/UDLVQJgsv5RwrTkVWAhS9LrdGDFzdbuN2SFxCFsZ.pth',r'/content/AnimeColorDeOldify/models/ColorizeArtistic_gen.pth')\n",
        "if anime_model == 'Sketch':\n",
        "  # sketch\n",
        "  #!wget https://www.dropbox.com/s/lykykhvpy9byb7u/JG5yF2bRBdpEJweytyvBSz3Qu6jcg8cfZ5kcFYGY.pth?dl=1 -O ./models/ColorizeArtistic_gen.pth\n",
        "  wget.download('https://www.dropbox.com/s/lykykhvpy9byb7u/JG5yF2bRBdpEJweytyvBSz3Qu6jcg8cfZ5kcFYGY.pth?dl=1')\n",
        "  os.rename(r'/content/AnimeColorDeOldify/models/JG5yF2bRBdpEJweytyvBSz3Qu6jcg8cfZ5kcFYGY.pth',r'/content/AnimeColorDeOldify/models/ColorizeArtistic_gen.pth')\n",
        "if anime_model == 'Sketch2Gray':\n",
        "  # sketch2gray\n",
        "  #!wget https://www.dropbox.com/s/6me8m9e7nfmlid6/tDEFrpvevtu6WGRKf2uV5cFtsFAEhuA5kmN7FpgZ.pth?dl=1 -O ./models/ColorizeArtistic_gen.pth\n",
        "  wget.download('https://www.dropbox.com/s/6me8m9e7nfmlid6/tDEFrpvevtu6WGRKf2uV5cFtsFAEhuA5kmN7FpgZ.pth?dl=1')\n",
        "  os.rename(r'/content/AnimeColorDeOldify/models/tDEFrpvevtu6WGRKf2uV5cFtsFAEhuA5kmN7FpgZ.pth',r'/content/AnimeColorDeOldify/models/ColorizeArtistic_gen.pth')\n",
        "%cd /content/AnimeColorDeOldify/\n",
        "stats = ([0.7137, 0.6628, 0.6519],[0.2970, 0.3017, 0.2979])\n",
        "colorizer = get_image_colorizer(artistic=True,stats=stats)"
      ],
      "execution_count": null,
      "outputs": []
    },
    {
      "cell_type": "code",
      "metadata": {
        "id": "jx9cRT-3R2kE",
        "colab_type": "code",
        "colab": {},
        "cellView": "form"
      },
      "source": [
        "source_url = 'https://safebooru.org//images/2917/4fc75cccbf90e932493240ccaf799dad6e3992d7.jpg?3038386' #@param {type:\"string\"}\n",
        "render_factor = 12 #@param {type:\"slider\", min:7, max:45, step:1}\n",
        "watermarked = False #@param {type:\"boolean\"}\n",
        "\n",
        "if source_url is not None and source_url !='':\n",
        "    image_path = colorizer.plot_transformed_image_from_url(url=source_url, render_factor=render_factor, compare=True, post_process=False, watermarked=watermarked)\n",
        "    show_image_in_notebook(image_path)\n",
        "else:\n",
        "    print('Provide an image url and try again.')"
      ],
      "execution_count": null,
      "outputs": []
    },
    {
      "cell_type": "code",
      "metadata": {
        "id": "Ti7WpO5YpTLI",
        "colab_type": "code",
        "colab": {},
        "cellView": "form"
      },
      "source": [
        "#@title ## See how well render_factor values perform on the image here (Currently only URL support)\n",
        "for i in range(10,40,2):\n",
        "    colorizer.plot_transformed_image('test_images/image.png', render_factor=i, display_render_factor=True, figsize=(8,8))"
      ],
      "execution_count": null,
      "outputs": []
    },
    {
      "cell_type": "code",
      "metadata": {
        "id": "XytmmqijRzag",
        "colab_type": "code",
        "colab": {},
        "cellView": "form"
      },
      "source": [
        "#@title Upload file (Original file can be downloaded from ```/content/AnimeColorDeOldify/result_images```)\n",
        "from google.colab import files\n",
        "import matplotlib.pyplot as plt\n",
        "import torchvision\n",
        "import cv2\n",
        "%cd /content/\n",
        "!mkdir /content/files/\n",
        "%cd /content/files/\n",
        "uploaded_names = files.upload().keys()\n",
        "\n",
        "if(len(uploaded_names)==0): raise Exception(\"You need to upload at least one image.\")\n",
        "filepath = \"/content/files/\"+list(uploaded_names)[0]\n",
        "\n",
        "final_image = colorizer.get_transformed_image(filepath, render_factor=35)\n",
        "final_image.save(\"/content/AnimeColorDeOldify/result_images/image.png\")\n",
        "\n",
        "%cd /content/AnimeColorDeOldify/result_images\n",
        "final_image = cv2.imread(\"image.png\")\n",
        "final_image = cv2.cvtColor(final_image, cv2.COLOR_BGR2RGB)\n",
        "\n",
        "plt.axis('off')\n",
        "plt.figure(figsize=(20,20))\n",
        "plt.imshow(final_image)\n",
        "plt.show()\n",
        "\n",
        "%cd /content/\n",
        "!sudo rm -rf /content/files/"
      ],
      "execution_count": null,
      "outputs": []
    }
  ]
}